{
 "cells": [
  {
   "cell_type": "markdown",
   "id": "be8037a2",
   "metadata": {},
   "source": [
    "Required Software"
   ]
  },
  {
   "cell_type": "code",
   "execution_count": null,
   "id": "b4e8810a",
   "metadata": {},
   "outputs": [],
   "source": [
    "pip install -r Basics.txt"
   ]
  },
  {
   "cell_type": "markdown",
   "id": "e86aa3d1",
   "metadata": {},
   "source": [
    "1. Getting The Data"
   ]
  },
  {
   "cell_type": "code",
   "execution_count": null,
   "id": "43288868",
   "metadata": {},
   "outputs": [],
   "source": [
    "import pandas as pd\n",
    "import numpy as np\n",
    "\n",
    "df = pd.read_csv('netflix_customer_churn.csv')\n",
    "print(df.head())"
   ]
  },
  {
   "cell_type": "code",
   "execution_count": null,
   "id": "137872db",
   "metadata": {},
   "outputs": [],
   "source": [
    "df.columns"
   ]
  },
  {
   "cell_type": "code",
   "execution_count": null,
   "id": "c4001348",
   "metadata": {},
   "outputs": [],
   "source": [
    "df.describe"
   ]
  },
  {
   "cell_type": "code",
   "execution_count": null,
   "id": "ae6f413f",
   "metadata": {},
   "outputs": [],
   "source": [
    "df.isna().sum()"
   ]
  },
  {
   "cell_type": "code",
   "execution_count": null,
   "id": "90c194e8",
   "metadata": {},
   "outputs": [],
   "source": [
    "# introucing missing values for the sake of demonstration\n",
    "import random\n",
    "df.loc[df.sample(frac=0.01).index, 'device'] = np.nan"
   ]
  },
  {
   "cell_type": "code",
   "execution_count": null,
   "id": "67a4d8bb",
   "metadata": {},
   "outputs": [],
   "source": [
    "df.isna().sum()"
   ]
  },
  {
   "cell_type": "code",
   "execution_count": null,
   "id": "22530c0a",
   "metadata": {},
   "outputs": [],
   "source": [
    "#Calculate the percentage\n",
    "df.isna().sum() / df.shape[0]*100"
   ]
  },
  {
   "cell_type": "code",
   "execution_count": null,
   "id": "7e0147be",
   "metadata": {},
   "outputs": [],
   "source": [
    "# Check for duplicate rows (entire row is identical)\n",
    "print(\"Total duplicates:\", df.duplicated().sum())\n",
    "\n",
    "# Check for duplicates in specific columns (e.g., 'customer_id' should be unique)\n",
    "print(\"Duplicate customer IDs:\", df['customer_id'].duplicated().sum())\n",
    "\n",
    "# Display duplicate rows (if any)\n",
    "duplicates = df[df.duplicated(keep=False)]  # keep=False marks all duplicates\n",
    "print(\"Sample duplicates:\\n\", duplicates.head(2))\n",
    "\n"
   ]
  },
  {
   "cell_type": "code",
   "execution_count": null,
   "id": "c8c56fea",
   "metadata": {},
   "outputs": [],
   "source": [
    "# Drop all duplicate rows (keeping the first occurrence)\n",
    "df = df.drop_duplicates()\n",
    "\n",
    "# Verify duplicates are gone\n",
    "print(\"Duplicates after removal:\", df.duplicated().sum())"
   ]
  },
  {
   "cell_type": "markdown",
   "id": "f780b345",
   "metadata": {},
   "source": [
    "2. Setting up the database\n"
   ]
  },
  {
   "cell_type": "code",
   "execution_count": null,
   "id": "2f1b9efc",
   "metadata": {},
   "outputs": [],
   "source": [
    "df.dtypes"
   ]
  },
  {
   "cell_type": "code",
   "execution_count": null,
   "id": "8fac3679",
   "metadata": {},
   "outputs": [],
   "source": [
    "import sqlite3\n",
    "conn = sqlite3.connect('churn.db')"
   ]
  },
  {
   "cell_type": "code",
   "execution_count": null,
   "id": "968a4b0f",
   "metadata": {},
   "outputs": [],
   "source": [
    "cursor = conn.cursor()"
   ]
  },
  {
   "cell_type": "markdown",
   "id": "daf62a0a",
   "metadata": {},
   "source": [
    "CREATE TABLE customers (\n",
    "   CREATE TABLE customers (\n",
    "    customerID VARCHAR(36) PRIMARY KEY,\n",
    "    age SMALLINT UNSIGNED,\n",
    "    gender ENUM('Female', 'Male', 'Other'),\n",
    "    subscriptionType ENUM('Basic', 'Standard', 'Premium'),\n",
    "    watchHours DECIMAL(6, 2),\n",
    "    lastLoginDays SMALLINT UNSIGNED,\n",
    "    region VARCHAR(30),\n",
    "    device VARCHAR(20),\n",
    "    monthlyFee DECIMAL(10, 2),\n",
    "    churn BOOLEAN NOT NULL,\n",
    "    paymentMethod VARCHAR(30),\n",
    "    numberOfProfiles TINYINT UNSIGNED,\n",
    "    avgWatchTimePerDay DECIMAL(5, 2),\n",
    "    favoriteGenre VARCHAR(30)\n",
    ");\n",
    "\n",
    ");\n"
   ]
  },
  {
   "cell_type": "code",
   "execution_count": null,
   "id": "a1402dde",
   "metadata": {},
   "outputs": [],
   "source": [
    "\n",
    "# Connect to database (or create one)\n",
    "conn = sqlite3.connect(\"churn.db\")\n",
    "cursor = conn.cursor()\n",
    "\n",
    "# Create table (Note: SQLite doesn't support ENUM directly)\n",
    "cursor.execute(\"\"\"\n",
    "CREATE TABLE customers (\n",
    "    customerID TEXT PRIMARY KEY,\n",
    "    age INTEGER,\n",
    "    gender TEXT,\n",
    "    subscriptionType TEXT,\n",
    "    watchHours REAL,\n",
    "    lastLoginDays INTEGER,\n",
    "    region TEXT,\n",
    "    device TEXT,\n",
    "    monthlyFee REAL,\n",
    "    churn BOOLEAN NOT NULL,\n",
    "    paymentMethod TEXT,\n",
    "    numberOfProfiles INTEGER,\n",
    "    avgWatchTimePerDay REAL,\n",
    "    favoriteGenre TEXT\n",
    ");\n",
    "\"\"\")\n",
    "\n",
    "conn.commit()\n",
    "\n"
   ]
  },
  {
   "cell_type": "code",
   "execution_count": null,
   "id": "cd16e67b",
   "metadata": {},
   "outputs": [],
   "source": [
    "cursor.execute(\"PRAGMA table_info(customers);\")\n",
    "cursor.fetchall()"
   ]
  },
  {
   "cell_type": "code",
   "execution_count": null,
   "id": "a67bc461",
   "metadata": {},
   "outputs": [],
   "source": [
    "for index, row in df.iterrows():\n",
    "    cursor.execute('''\n",
    "        INSERT INTO customers (\n",
    "            customerID,\n",
    "            age,\n",
    "            gender, \n",
    "            subscriptionType,\n",
    "            watchHours, \n",
    "            lastLoginDays, \n",
    "            region, \n",
    "            device,\n",
    "            monthlyFee, \n",
    "            churn, \n",
    "            paymentMethod,\n",
    "            numberOfProfiles, \n",
    "            avgWatchTimePerDay, \n",
    "            favoriteGenre\n",
    "        ) VALUES (?, ?, ?, ?, ?, ?, ?, ?, ?, ?, ?, ?, ?, ?)\n",
    "    ''', (\n",
    "        row['customer_id'],\n",
    "        row['age'],\n",
    "        row['gender'],\n",
    "        row['subscription_type'],\n",
    "        row['watch_hours'],\n",
    "        row['last_login_days'],\n",
    "        row['region'],\n",
    "        row['device'],\n",
    "        row['monthly_fee'],\n",
    "        bool(row['churned']),  # Convert int (0/1) to boolean\n",
    "        row['payment_method'],\n",
    "        row['number_of_profiles'],\n",
    "        row['avg_watch_time_per_day'],\n",
    "        row['favorite_genre']\n",
    "    ))\n",
    "\n",
    "conn.commit()\n"
   ]
  },
  {
   "cell_type": "code",
   "execution_count": null,
   "id": "d6f76532",
   "metadata": {},
   "outputs": [],
   "source": [
    "df.columns"
   ]
  },
  {
   "cell_type": "code",
   "execution_count": null,
   "id": "d4a2a57e",
   "metadata": {},
   "outputs": [],
   "source": [
    "def run_query(query):\n",
    "    cursor.execute(query)\n",
    "    return cursor.fetchall()"
   ]
  },
  {
   "cell_type": "code",
   "execution_count": null,
   "id": "e075722c",
   "metadata": {},
   "outputs": [],
   "source": [
    "query = '''\n",
    "SELECT gender, region, AVG(device) AS device\n",
    "FROM customers\n",
    "GROUP BY gender\n",
    "\n",
    "'''\n",
    "run_query(query)"
   ]
  },
  {
   "cell_type": "code",
   "execution_count": null,
   "id": "60521567",
   "metadata": {},
   "outputs": [],
   "source": [
    "query = '''\n",
    "SELECT gender, region, paymentMethod, device, AVG(avgWatchTimePerDay) AS avgWatchTimePerDay\n",
    "FROM customers\n",
    "GROUP BY gender, age\n",
    "\n",
    "'''\n",
    "run_query(query)"
   ]
  },
  {
   "cell_type": "markdown",
   "id": "3ee37b62",
   "metadata": {},
   "source": [
    "Churn Analysis\n"
   ]
  },
  {
   "cell_type": "code",
   "execution_count": null,
   "id": "8a52fd7d",
   "metadata": {},
   "outputs": [],
   "source": [
    "query = '''\n",
    "\n",
    "SELECT AVG(avgWatchTimePerDay) AS avgWatchTimePerDay, AVG(MonthlyFee) AS avg_monthly_fee,  paymentMethod, device, region, COUNT(*) AS churn_count\n",
    "FROM customers\n",
    "WHERE Churn = 1\n",
    "GROUP BY paymentMethod, device, region\n",
    "ORDER BY churn_count DESC;\n",
    "'''\n",
    "run_query(query)"
   ]
  },
  {
   "cell_type": "markdown",
   "id": "82c0a626",
   "metadata": {},
   "source": [
    "More Analysis Later\n"
   ]
  },
  {
   "cell_type": "markdown",
   "id": "2947aeca",
   "metadata": {},
   "source": [
    "More Detailed Analysis Using Python\n"
   ]
  },
  {
   "cell_type": "code",
   "execution_count": null,
   "id": "333d2c2f",
   "metadata": {},
   "outputs": [],
   "source": [
    "churn_by_gender = df.groupby('gender') ['churned'].sum()/df.shape[0]\n",
    "churn_by_gender"
   ]
  },
  {
   "cell_type": "code",
   "execution_count": null,
   "id": "90398d1e",
   "metadata": {},
   "outputs": [],
   "source": [
    "churn_by_device = df.groupby('device') ['churned'].sum()/df.shape[0]\n",
    "churn_by_device"
   ]
  },
  {
   "cell_type": "code",
   "execution_count": null,
   "id": "e6b16f5b",
   "metadata": {},
   "outputs": [],
   "source": [
    "churn_by_payment_method = df.groupby('payment_method')['churned'].sum() / df.shape[0]\n",
    "churn_by_payment_method"
   ]
  },
  {
   "cell_type": "markdown",
   "id": "1837a4d8",
   "metadata": {},
   "source": [
    "Data Visualization\n"
   ]
  },
  {
   "cell_type": "code",
   "execution_count": null,
   "id": "c4fb69da",
   "metadata": {},
   "outputs": [],
   "source": [
    "import matplotlib.pyplot as plt \n",
    "import seaborn as sns\n",
    "\n",
    "# Churn by Contract Type\n",
    "\n",
    "sns.countplot(data=df, x='device', hue='churned') \n",
    "plt.title('Churn Rate by Device Type')\n",
    "\n",
    "plt.show()"
   ]
  },
  {
   "cell_type": "code",
   "execution_count": null,
   "id": "84feb230",
   "metadata": {},
   "outputs": [],
   "source": [
    "sns.countplot(data=df, x='payment_method', hue='churned') \n",
    "plt.title('Churn Rate by Payment Method Type')\n",
    "\n",
    "plt.show()"
   ]
  },
  {
   "cell_type": "code",
   "execution_count": null,
   "id": "c0425e39",
   "metadata": {},
   "outputs": [],
   "source": [
    "sns.countplot(data=df, x='payment_method', hue='churned')\n",
    "plt.title('Churn Rate by Payment Method Type')\n",
    "\n",
    "plt.show()"
   ]
  },
  {
   "cell_type": "markdown",
   "id": "f4a2bfde",
   "metadata": {},
   "source": [
    "Machine Learning\n"
   ]
  },
  {
   "cell_type": "code",
   "execution_count": null,
   "id": "9c7bfb27",
   "metadata": {},
   "outputs": [],
   "source": [
    "from sklearn.model_selection import train_test_split \n",
    "from sklearn.pipeline import Pipeline\n",
    "from sklearn.compose import ColumnTransformer\n",
    "from sklearn.preprocessing import OneHotEncoder, StandardScaler\n",
    "from sklearn.linear_model import LogisticRegression\n",
    "from sklearn.metrics import classification_report, accuracy_score\n",
    "from sklearn.impute import SimpleImputer\n",
    "\n"
   ]
  },
  {
   "cell_type": "markdown",
   "id": "a1ad87e8",
   "metadata": {},
   "source": [
    "Logic Regression"
   ]
  },
  {
   "cell_type": "code",
   "execution_count": null,
   "id": "fa77cdaa",
   "metadata": {},
   "outputs": [],
   "source": [
    "# Example data preparation\n",
    "X = df.drop('churned', axis=1)\n",
    "y = df['churned']\n",
    "\n",
    "# Identify column types\n",
    "categorical_features = X.select_dtypes(include=['object']).columns.tolist()\n",
    "numerical_features = X.select_dtypes(include=['int64', 'float64']).columns.tolist()\n",
    "\n",
    "# Preprocessing pipelines\n",
    "numeric_pipeline = Pipeline([\n",
    "    ('imputer', SimpleImputer(strategy='mean')),\n",
    "    ('scaler', StandardScaler())\n",
    "])\n",
    "\n",
    "categorical_pipeline = Pipeline([\n",
    "    ('imputer', SimpleImputer(strategy='most_frequent')),\n",
    "    ('encoder', OneHotEncoder(handle_unknown='ignore'))\n",
    "])\n",
    "\n",
    "preprocessor = ColumnTransformer([\n",
    "    ('num', numeric_pipeline, numerical_features),\n",
    "    ('cat', categorical_pipeline, categorical_features)\n",
    "])\n",
    "\n",
    "# Final pipeline\n",
    "model_pipeline = Pipeline([\n",
    "    ('preprocess', preprocessor),\n",
    "    ('classifier', LogisticRegression(max_iter=1000))\n",
    "])\n",
    "\n",
    "# Train-test split\n",
    "X_train, X_test, y_train, y_test = train_test_split(X, y, test_size=0.2, random_state=42)\n",
    "\n",
    "# Fit and evaluate\n",
    "model_pipeline.fit(X_train, y_train)\n",
    "y_pred = model_pipeline.predict(X_test)\n",
    "\n",
    "print(\"Accuracy:\", accuracy_score(y_test, y_pred))\n",
    "print(classification_report(y_test, y_pred))\n"
   ]
  },
  {
   "cell_type": "markdown",
   "id": "a881e899",
   "metadata": {},
   "source": [
    "Decision Trees"
   ]
  },
  {
   "cell_type": "code",
   "execution_count": null,
   "id": "2b1e09b0",
   "metadata": {},
   "outputs": [],
   "source": [
    "from sklearn.tree import DecisionTreeClassifier\n",
    "X = df.drop('churned', axis=1)\n",
    "y = df['churned']\n",
    "\n",
    "# Identify column types\n",
    "categorical_features = X.select_dtypes(include=['object']).columns.tolist()\n",
    "numerical_features = X.select_dtypes(include=['int64', 'float64']).columns.tolist()\n",
    "\n",
    "# Numeric preprocessing\n",
    "numeric_pipeline = Pipeline([\n",
    "    ('imputer', SimpleImputer(strategy='mean')),\n",
    "    ('scaler', StandardScaler())\n",
    "])\n",
    "\n",
    "# Categorical preprocessing\n",
    "categorical_pipeline = Pipeline([\n",
    "    ('imputer', SimpleImputer(strategy='most_frequent')),\n",
    "    ('encoder', OneHotEncoder(handle_unknown='ignore'))\n",
    "])\n",
    "\n",
    "# Combine preprocessing\n",
    "preprocessor = ColumnTransformer([\n",
    "    ('num', numeric_pipeline, numerical_features),\n",
    "    ('cat', categorical_pipeline, categorical_features)\n",
    "])\n",
    "\n",
    "# Full pipeline with Decision Tree\n",
    "model_pipeline = Pipeline([\n",
    "    ('preprocess', preprocessor),\n",
    "    ('classifier', DecisionTreeClassifier(max_depth=5, random_state=42))  # you can tune max_depth\n",
    "])\n",
    "\n",
    "# Train-test split\n",
    "X_train, X_test, y_train, y_test = train_test_split(X, y, test_size=0.2, random_state=42)\n",
    "\n",
    "# Train the model\n",
    "model_pipeline.fit(X_train, y_train)\n",
    "\n",
    "# Predict and evaluate\n",
    "y_pred = model_pipeline.predict(X_test)\n",
    "\n",
    "print(\"Accuracy:\", accuracy_score(y_test, y_pred))\n",
    "print(classification_report(y_test, y_pred))"
   ]
  },
  {
   "cell_type": "markdown",
   "id": "8d9bd19e",
   "metadata": {},
   "source": [
    "Random Forest Classifier\n"
   ]
  },
  {
   "cell_type": "code",
   "execution_count": null,
   "id": "32684366",
   "metadata": {},
   "outputs": [],
   "source": [
    "from sklearn.ensemble import RandomForestClassifier\n",
    "# Load and split your data\n",
    "X = df.drop('churned', axis=1)\n",
    "y = df['churned']\n",
    "\n",
    "# Identify categorical and numerical columns\n",
    "categorical_features = X.select_dtypes(include=['object']).columns.tolist()\n",
    "numerical_features = X.select_dtypes(include=['int64', 'float64']).columns.tolist()\n",
    "\n",
    "# Preprocessing for numeric features\n",
    "numeric_pipeline = Pipeline([\n",
    "    ('imputer', SimpleImputer(strategy='mean')),\n",
    "    ('scaler', StandardScaler())\n",
    "])\n",
    "\n",
    "# Preprocessing for categorical features\n",
    "categorical_pipeline = Pipeline([\n",
    "    ('imputer', SimpleImputer(strategy='most_frequent')),\n",
    "    ('encoder', OneHotEncoder(handle_unknown='ignore'))\n",
    "])\n",
    "\n",
    "# Combine preprocessor\n",
    "preprocessor = ColumnTransformer([\n",
    "    ('num', numeric_pipeline, numerical_features),\n",
    "    ('cat', categorical_pipeline, categorical_features)\n",
    "])\n",
    "\n",
    "# Full pipeline with Random Forest\n",
    "model_pipeline = Pipeline([\n",
    "    ('preprocess', preprocessor),\n",
    "    ('classifier', RandomForestClassifier(n_estimators=100, max_depth=8, random_state=42))\n",
    "])\n",
    "\n",
    "# Train-test split\n",
    "X_train, X_test, y_train, y_test = train_test_split(X, y, test_size=0.2, random_state=42)\n",
    "\n",
    "# Train model\n",
    "model_pipeline.fit(X_train, y_train)\n",
    "\n",
    "# Predict and evaluate\n",
    "y_pred = model_pipeline.predict(X_test)\n",
    "\n",
    "print(\"Accuracy:\", accuracy_score(y_test, y_pred))\n",
    "print(classification_report(y_test, y_pred))"
   ]
  }
 ],
 "metadata": {
  "kernelspec": {
   "display_name": "Python 3",
   "language": "python",
   "name": "python3"
  },
  "language_info": {
   "codemirror_mode": {
    "name": "ipython",
    "version": 3
   },
   "file_extension": ".py",
   "mimetype": "text/x-python",
   "name": "python",
   "nbconvert_exporter": "python",
   "pygments_lexer": "ipython3",
   "version": "3.13.5"
  }
 },
 "nbformat": 4,
 "nbformat_minor": 5
}
