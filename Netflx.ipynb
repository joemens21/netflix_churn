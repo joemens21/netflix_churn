{
 "cells": [
  {
   "cell_type": "markdown",
   "id": "be8037a2",
   "metadata": {},
   "source": [
    "<h3>Installing the Required Software</h3>"
   ]
  },
  {
   "cell_type": "code",
   "execution_count": 1,
   "id": "b4e8810a",
   "metadata": {},
   "outputs": [
    {
     "name": "stdout",
     "output_type": "stream",
     "text": [
      "Requirement already satisfied: pandas in c:\\users\\mensj\\appdata\\local\\programs\\python\\python313\\lib\\site-packages (from -r Basics.txt (line 1)) (2.3.0)\n",
      "Requirement already satisfied: numpy in c:\\users\\mensj\\appdata\\local\\programs\\python\\python313\\lib\\site-packages (from -r Basics.txt (line 2)) (2.3.1)\n",
      "Requirement already satisfied: scikit-learn in c:\\users\\mensj\\appdata\\local\\programs\\python\\python313\\lib\\site-packages (from -r Basics.txt (line 3)) (1.7.0)\n",
      "Requirement already satisfied: matplotlib in c:\\users\\mensj\\appdata\\local\\programs\\python\\python313\\lib\\site-packages (from -r Basics.txt (line 4)) (3.10.3)\n",
      "Requirement already satisfied: seaborn in c:\\users\\mensj\\appdata\\local\\programs\\python\\python313\\lib\\site-packages (from -r Basics.txt (line 5)) (0.13.2)\n",
      "Requirement already satisfied: python-dateutil>=2.8.2 in c:\\users\\mensj\\appdata\\roaming\\python\\python313\\site-packages (from pandas->-r Basics.txt (line 1)) (2.9.0.post0)\n",
      "Requirement already satisfied: pytz>=2020.1 in c:\\users\\mensj\\appdata\\local\\programs\\python\\python313\\lib\\site-packages (from pandas->-r Basics.txt (line 1)) (2025.2)\n",
      "Requirement already satisfied: tzdata>=2022.7 in c:\\users\\mensj\\appdata\\local\\programs\\python\\python313\\lib\\site-packages (from pandas->-r Basics.txt (line 1)) (2025.2)\n",
      "Requirement already satisfied: scipy>=1.8.0 in c:\\users\\mensj\\appdata\\local\\programs\\python\\python313\\lib\\site-packages (from scikit-learn->-r Basics.txt (line 3)) (1.16.0)\n",
      "Requirement already satisfied: joblib>=1.2.0 in c:\\users\\mensj\\appdata\\local\\programs\\python\\python313\\lib\\site-packages (from scikit-learn->-r Basics.txt (line 3)) (1.5.1)\n",
      "Requirement already satisfied: threadpoolctl>=3.1.0 in c:\\users\\mensj\\appdata\\local\\programs\\python\\python313\\lib\\site-packages (from scikit-learn->-r Basics.txt (line 3)) (3.6.0)\n",
      "Requirement already satisfied: contourpy>=1.0.1 in c:\\users\\mensj\\appdata\\local\\programs\\python\\python313\\lib\\site-packages (from matplotlib->-r Basics.txt (line 4)) (1.3.2)\n",
      "Requirement already satisfied: cycler>=0.10 in c:\\users\\mensj\\appdata\\local\\programs\\python\\python313\\lib\\site-packages (from matplotlib->-r Basics.txt (line 4)) (0.12.1)\n",
      "Requirement already satisfied: fonttools>=4.22.0 in c:\\users\\mensj\\appdata\\local\\programs\\python\\python313\\lib\\site-packages (from matplotlib->-r Basics.txt (line 4)) (4.58.5)\n",
      "Requirement already satisfied: kiwisolver>=1.3.1 in c:\\users\\mensj\\appdata\\local\\programs\\python\\python313\\lib\\site-packages (from matplotlib->-r Basics.txt (line 4)) (1.4.8)\n",
      "Requirement already satisfied: packaging>=20.0 in c:\\users\\mensj\\appdata\\roaming\\python\\python313\\site-packages (from matplotlib->-r Basics.txt (line 4)) (25.0)\n",
      "Requirement already satisfied: pillow>=8 in c:\\users\\mensj\\appdata\\local\\programs\\python\\python313\\lib\\site-packages (from matplotlib->-r Basics.txt (line 4)) (11.3.0)\n",
      "Requirement already satisfied: pyparsing>=2.3.1 in c:\\users\\mensj\\appdata\\local\\programs\\python\\python313\\lib\\site-packages (from matplotlib->-r Basics.txt (line 4)) (3.2.3)\n",
      "Requirement already satisfied: six>=1.5 in c:\\users\\mensj\\appdata\\roaming\\python\\python313\\site-packages (from python-dateutil>=2.8.2->pandas->-r Basics.txt (line 1)) (1.17.0)\n",
      "Note: you may need to restart the kernel to use updated packages.\n"
     ]
    }
   ],
   "source": [
    "%pip install -r Basics.txt"
   ]
  },
  {
   "cell_type": "markdown",
   "id": "e86aa3d1",
   "metadata": {},
   "source": [
    "<h1>1. Getting The Data</h1>"
   ]
  },
  {
   "cell_type": "code",
   "execution_count": 2,
   "id": "43288868",
   "metadata": {},
   "outputs": [
    {
     "name": "stdout",
     "output_type": "stream",
     "text": [
      "                            customer_id  age  gender subscription_type  \\\n",
      "0  a9b75100-82a8-427a-a208-72f24052884a   51   Other             Basic   \n",
      "1  49a5dfd9-7e69-4022-a6ad-0a1b9767fb5b   47   Other          Standard   \n",
      "2  4d71f6ce-fca9-4ff7-8afa-197ac24de14b   27  Female          Standard   \n",
      "3  d3c72c38-631b-4f9e-8a0e-de103cad1a7d   53   Other           Premium   \n",
      "4  4e265c34-103a-4dbb-9553-76c9aa47e946   56   Other          Standard   \n",
      "\n",
      "   watch_hours  last_login_days   region  device  monthly_fee  churned  \\\n",
      "0        14.73               29   Africa      TV         8.99        1   \n",
      "1         0.70               19   Europe  Mobile        13.99        1   \n",
      "2        16.32               10     Asia      TV        13.99        0   \n",
      "3         4.51               12  Oceania      TV        17.99        1   \n",
      "4         1.89               13   Africa  Mobile        13.99        1   \n",
      "\n",
      "  payment_method  number_of_profiles  avg_watch_time_per_day favorite_genre  \n",
      "0      Gift Card                   1                    0.49         Action  \n",
      "1      Gift Card                   5                    0.03         Sci-Fi  \n",
      "2         Crypto                   2                    1.48          Drama  \n",
      "3         Crypto                   2                    0.35         Horror  \n",
      "4         Crypto                   2                    0.13         Action  \n"
     ]
    }
   ],
   "source": [
    "#Importing the downloaded csv\n",
    "import pandas as pd\n",
    "import numpy as np\n",
    "\n",
    "df = pd.read_csv('netflix_customer_churn.csv')\n",
    "print(df.head())"
   ]
  },
  {
   "cell_type": "code",
   "execution_count": 3,
   "id": "137872db",
   "metadata": {},
   "outputs": [
    {
     "data": {
      "text/plain": [
       "Index(['customer_id', 'age', 'gender', 'subscription_type', 'watch_hours',\n",
       "       'last_login_days', 'region', 'device', 'monthly_fee', 'churned',\n",
       "       'payment_method', 'number_of_profiles', 'avg_watch_time_per_day',\n",
       "       'favorite_genre'],\n",
       "      dtype='object')"
      ]
     },
     "execution_count": 3,
     "metadata": {},
     "output_type": "execute_result"
    }
   ],
   "source": [
    "#Viewing the columns\n",
    "df.columns"
   ]
  },
  {
   "cell_type": "code",
   "execution_count": 4,
   "id": "c4001348",
   "metadata": {},
   "outputs": [
    {
     "data": {
      "text/plain": [
       "<bound method NDFrame.describe of                                customer_id  age  gender subscription_type  \\\n",
       "0     a9b75100-82a8-427a-a208-72f24052884a   51   Other             Basic   \n",
       "1     49a5dfd9-7e69-4022-a6ad-0a1b9767fb5b   47   Other          Standard   \n",
       "2     4d71f6ce-fca9-4ff7-8afa-197ac24de14b   27  Female          Standard   \n",
       "3     d3c72c38-631b-4f9e-8a0e-de103cad1a7d   53   Other           Premium   \n",
       "4     4e265c34-103a-4dbb-9553-76c9aa47e946   56   Other          Standard   \n",
       "...                                    ...  ...     ...               ...   \n",
       "4995  44f3ba44-b95d-4e50-a786-bac4d06f4a43   19  Female             Basic   \n",
       "4996  18779bcb-ba2b-41da-b751-e70b812061ec   67  Female             Basic   \n",
       "4997  3f32e8c5-615b-4a3b-a864-db2688f7834f   66    Male          Standard   \n",
       "4998  7b0ad82d-6571-430e-90f4-906259e0e89c   59  Female             Basic   \n",
       "4999  82aeef39-ddb0-40ad-bae1-5c436e0cf042   57    Male             Basic   \n",
       "\n",
       "      watch_hours  last_login_days         region   device  monthly_fee  \\\n",
       "0           14.73               29         Africa       TV         8.99   \n",
       "1            0.70               19         Europe   Mobile        13.99   \n",
       "2           16.32               10           Asia       TV        13.99   \n",
       "3            4.51               12        Oceania       TV        17.99   \n",
       "4            1.89               13         Africa   Mobile        13.99   \n",
       "...           ...              ...            ...      ...          ...   \n",
       "4995        49.17               11         Europe  Desktop         8.99   \n",
       "4996         9.24                2  North America  Desktop         8.99   \n",
       "4997        16.55               49  South America  Desktop        13.99   \n",
       "4998         9.12                3         Europe   Laptop         8.99   \n",
       "4999         1.62               17         Africa   Mobile         8.99   \n",
       "\n",
       "      churned payment_method  number_of_profiles  avg_watch_time_per_day  \\\n",
       "0           1      Gift Card                   1                    0.49   \n",
       "1           1      Gift Card                   5                    0.03   \n",
       "2           0         Crypto                   2                    1.48   \n",
       "3           1         Crypto                   2                    0.35   \n",
       "4           1         Crypto                   2                    0.13   \n",
       "...       ...            ...                 ...                     ...   \n",
       "4995        0    Credit Card                   4                    4.10   \n",
       "4996        0         PayPal                   3                    3.08   \n",
       "4997        1     Debit Card                   2                    0.33   \n",
       "4998        0    Credit Card                   4                    2.28   \n",
       "4999        1         Crypto                   2                    0.09   \n",
       "\n",
       "     favorite_genre  \n",
       "0            Action  \n",
       "1            Sci-Fi  \n",
       "2             Drama  \n",
       "3            Horror  \n",
       "4            Action  \n",
       "...             ...  \n",
       "4995          Drama  \n",
       "4996    Documentary  \n",
       "4997         Action  \n",
       "4998         Sci-Fi  \n",
       "4999         Action  \n",
       "\n",
       "[5000 rows x 14 columns]>"
      ]
     },
     "execution_count": 4,
     "metadata": {},
     "output_type": "execute_result"
    }
   ],
   "source": [
    "#Preview of data\n",
    "df.describe"
   ]
  },
  {
   "cell_type": "code",
   "execution_count": 5,
   "id": "ae6f413f",
   "metadata": {},
   "outputs": [
    {
     "data": {
      "text/plain": [
       "customer_id               0\n",
       "age                       0\n",
       "gender                    0\n",
       "subscription_type         0\n",
       "watch_hours               0\n",
       "last_login_days           0\n",
       "region                    0\n",
       "device                    0\n",
       "monthly_fee               0\n",
       "churned                   0\n",
       "payment_method            0\n",
       "number_of_profiles        0\n",
       "avg_watch_time_per_day    0\n",
       "favorite_genre            0\n",
       "dtype: int64"
      ]
     },
     "execution_count": 5,
     "metadata": {},
     "output_type": "execute_result"
    }
   ],
   "source": [
    "#Detecting misssing values\n",
    "df.isna().sum()"
   ]
  },
  {
   "cell_type": "code",
   "execution_count": 6,
   "id": "90c194e8",
   "metadata": {},
   "outputs": [],
   "source": [
    "# Introducing missing values for the sake of demonstration\n",
    "#import random\n",
    "#df.loc[df.sample(frac=0.01).index, 'device'] = np.nan"
   ]
  },
  {
   "cell_type": "code",
   "execution_count": 7,
   "id": "67a4d8bb",
   "metadata": {},
   "outputs": [
    {
     "data": {
      "text/plain": [
       "customer_id               0\n",
       "age                       0\n",
       "gender                    0\n",
       "subscription_type         0\n",
       "watch_hours               0\n",
       "last_login_days           0\n",
       "region                    0\n",
       "device                    0\n",
       "monthly_fee               0\n",
       "churned                   0\n",
       "payment_method            0\n",
       "number_of_profiles        0\n",
       "avg_watch_time_per_day    0\n",
       "favorite_genre            0\n",
       "dtype: int64"
      ]
     },
     "execution_count": 7,
     "metadata": {},
     "output_type": "execute_result"
    }
   ],
   "source": [
    "df.isna().sum()"
   ]
  },
  {
   "cell_type": "code",
   "execution_count": 8,
   "id": "22530c0a",
   "metadata": {},
   "outputs": [
    {
     "data": {
      "text/plain": [
       "customer_id               0.0\n",
       "age                       0.0\n",
       "gender                    0.0\n",
       "subscription_type         0.0\n",
       "watch_hours               0.0\n",
       "last_login_days           0.0\n",
       "region                    0.0\n",
       "device                    0.0\n",
       "monthly_fee               0.0\n",
       "churned                   0.0\n",
       "payment_method            0.0\n",
       "number_of_profiles        0.0\n",
       "avg_watch_time_per_day    0.0\n",
       "favorite_genre            0.0\n",
       "dtype: float64"
      ]
     },
     "execution_count": 8,
     "metadata": {},
     "output_type": "execute_result"
    }
   ],
   "source": [
    "#Calculate the percentage\n",
    "df.isna().sum() / df.shape[0]*100"
   ]
  },
  {
   "cell_type": "code",
   "execution_count": 9,
   "id": "7e0147be",
   "metadata": {},
   "outputs": [
    {
     "name": "stdout",
     "output_type": "stream",
     "text": [
      "Total duplicates: 0\n",
      "Duplicate customer IDs: 0\n"
     ]
    }
   ],
   "source": [
    "# Check for duplicate rows (entire row is identical)\n",
    "print(\"Total duplicates:\", df.duplicated().sum())\n",
    "\n",
    "# Check for duplicates in specific columns (e.g., 'customer_id' should be unique)\n",
    "print(\"Duplicate customer IDs:\", df['customer_id'].duplicated().sum())\n",
    "\n"
   ]
  },
  {
   "cell_type": "code",
   "execution_count": 10,
   "id": "c8c56fea",
   "metadata": {},
   "outputs": [
    {
     "name": "stdout",
     "output_type": "stream",
     "text": [
      "Duplicates after removal: 0\n"
     ]
    }
   ],
   "source": [
    "# Drop all duplicate rows (keeping the first occurrence)\n",
    "df = df.drop_duplicates()\n",
    "\n",
    "# Verify duplicates are gone\n",
    "print(\"Duplicates after removal:\", df.duplicated().sum())"
   ]
  },
  {
   "cell_type": "markdown",
   "id": "f780b345",
   "metadata": {},
   "source": [
    "<h1>2. Setting up the database</h1>"
   ]
  },
  {
   "cell_type": "code",
   "execution_count": 11,
   "id": "2f1b9efc",
   "metadata": {},
   "outputs": [
    {
     "data": {
      "text/plain": [
       "customer_id                object\n",
       "age                         int64\n",
       "gender                     object\n",
       "subscription_type          object\n",
       "watch_hours               float64\n",
       "last_login_days             int64\n",
       "region                     object\n",
       "device                     object\n",
       "monthly_fee               float64\n",
       "churned                     int64\n",
       "payment_method             object\n",
       "number_of_profiles          int64\n",
       "avg_watch_time_per_day    float64\n",
       "favorite_genre             object\n",
       "dtype: object"
      ]
     },
     "execution_count": 11,
     "metadata": {},
     "output_type": "execute_result"
    }
   ],
   "source": [
    "df.dtypes"
   ]
  },
  {
   "cell_type": "code",
   "execution_count": 12,
   "id": "a1402dde",
   "metadata": {},
   "outputs": [],
   "source": [
    "\n",
    "import sqlite3\n",
    "# Connect to database\n",
    "conn = sqlite3.connect(\"churn.db\")\n",
    "cursor = conn.cursor()\n",
    "\n",
    "# Create table (Note: SQLite doesn't support ENUM directly)\n",
    "cursor.execute(\"\"\"\n",
    "CREATE TABLE customers (\n",
    "    customerID TEXT PRIMARY KEY,\n",
    "    age INTEGER,\n",
    "    gender TEXT,\n",
    "    subscriptionType TEXT,\n",
    "    watchHours REAL,\n",
    "    lastLoginDays INTEGER,\n",
    "    region TEXT,\n",
    "    device TEXT,\n",
    "    monthlyFee REAL,\n",
    "    churn BOOLEAN NOT NULL,\n",
    "    paymentMethod TEXT,\n",
    "    numberOfProfiles INTEGER,\n",
    "    avgWatchTimePerDay REAL,\n",
    "    favoriteGenre TEXT\n",
    ");\n",
    "\"\"\")\n",
    "\n",
    "conn.commit()\n",
    "\n"
   ]
  },
  {
   "cell_type": "code",
   "execution_count": 13,
   "id": "cd16e67b",
   "metadata": {},
   "outputs": [
    {
     "data": {
      "text/plain": [
       "[(0, 'customerID', 'TEXT', 0, None, 1),\n",
       " (1, 'age', 'INTEGER', 0, None, 0),\n",
       " (2, 'gender', 'TEXT', 0, None, 0),\n",
       " (3, 'subscriptionType', 'TEXT', 0, None, 0),\n",
       " (4, 'watchHours', 'REAL', 0, None, 0),\n",
       " (5, 'lastLoginDays', 'INTEGER', 0, None, 0),\n",
       " (6, 'region', 'TEXT', 0, None, 0),\n",
       " (7, 'device', 'TEXT', 0, None, 0),\n",
       " (8, 'monthlyFee', 'REAL', 0, None, 0),\n",
       " (9, 'churn', 'BOOLEAN', 1, None, 0),\n",
       " (10, 'paymentMethod', 'TEXT', 0, None, 0),\n",
       " (11, 'numberOfProfiles', 'INTEGER', 0, None, 0),\n",
       " (12, 'avgWatchTimePerDay', 'REAL', 0, None, 0),\n",
       " (13, 'favoriteGenre', 'TEXT', 0, None, 0)]"
      ]
     },
     "execution_count": 13,
     "metadata": {},
     "output_type": "execute_result"
    }
   ],
   "source": [
    "cursor.execute(\"PRAGMA table_info(customers);\")\n",
    "cursor.fetchall()"
   ]
  },
  {
   "cell_type": "code",
   "execution_count": 14,
   "id": "a67bc461",
   "metadata": {},
   "outputs": [],
   "source": [
    "#Copying data form the dataframe to the database\n",
    "import pandas as pd\n",
    "for index, row in df.iterrows():\n",
    "    cursor.execute('''\n",
    "        INSERT INTO customers (\n",
    "            customerID,\n",
    "            age,\n",
    "            gender, \n",
    "            subscriptionType,\n",
    "            watchHours, \n",
    "            lastLoginDays, \n",
    "            region, \n",
    "            device,\n",
    "            monthlyFee, \n",
    "            churn, \n",
    "            paymentMethod,\n",
    "            numberOfProfiles, \n",
    "            avgWatchTimePerDay, \n",
    "            favoriteGenre\n",
    "        ) VALUES (?, ?, ?, ?, ?, ?, ?, ?, ?, ?, ?, ?, ?, ?)\n",
    "    ''', (\n",
    "        row['customer_id'],\n",
    "        row['age'],\n",
    "        row['gender'],\n",
    "        row['subscription_type'],\n",
    "        row['watch_hours'],\n",
    "        row['last_login_days'],\n",
    "        row['region'],\n",
    "        row['device'],\n",
    "        row['monthly_fee'],\n",
    "        bool(row['churned']),  \n",
    "        row['payment_method'],\n",
    "        row['number_of_profiles'],\n",
    "        row['avg_watch_time_per_day'],\n",
    "        row['favorite_genre']\n",
    "    ))\n",
    "\n",
    "conn.commit()\n"
   ]
  },
  {
   "cell_type": "code",
   "execution_count": 15,
   "id": "d6f76532",
   "metadata": {},
   "outputs": [
    {
     "data": {
      "text/plain": [
       "Index(['customer_id', 'age', 'gender', 'subscription_type', 'watch_hours',\n",
       "       'last_login_days', 'region', 'device', 'monthly_fee', 'churned',\n",
       "       'payment_method', 'number_of_profiles', 'avg_watch_time_per_day',\n",
       "       'favorite_genre'],\n",
       "      dtype='object')"
      ]
     },
     "execution_count": 15,
     "metadata": {},
     "output_type": "execute_result"
    }
   ],
   "source": [
    "#Checking if database creation was sucessful\n",
    "df.columns"
   ]
  },
  {
   "cell_type": "code",
   "execution_count": 16,
   "id": "d4a2a57e",
   "metadata": {},
   "outputs": [],
   "source": [
    "def run_query(query):\n",
    "    cursor.execute(query)\n",
    "    return cursor.fetchall()"
   ]
  },
  {
   "cell_type": "code",
   "execution_count": 17,
   "id": "e075722c",
   "metadata": {},
   "outputs": [
    {
     "data": {
      "text/plain": [
       "[('Female', 'Desktop', 13.179415384615385),\n",
       " ('Female', 'Laptop', 11.277191977077363),\n",
       " ('Female', 'Mobile', 11.588302469135803),\n",
       " ('Female', 'TV', 11.28434017595308),\n",
       " ('Female', 'Tablet', 10.65505376344086),\n",
       " ('Male', 'Desktop', 12.207774193548387),\n",
       " ('Male', 'Laptop', 11.316397515527951),\n",
       " ('Male', 'Mobile', 11.178625730994153),\n",
       " ('Male', 'TV', 12.88785498489426),\n",
       " ('Male', 'Tablet', 10.599828080229226),\n",
       " ('Other', 'Desktop', 11.730477707006369),\n",
       " ('Other', 'Laptop', 11.228119402985074),\n",
       " ('Other', 'Mobile', 13.110236686390532),\n",
       " ('Other', 'TV', 11.483426791277259),\n",
       " ('Other', 'Tablet', 11.263363914373087)]"
      ]
     },
     "execution_count": 17,
     "metadata": {},
     "output_type": "execute_result"
    }
   ],
   "source": [
    "query = '''\n",
    "SELECT gender, device, AVG(watchHours) AS watchHours\n",
    "FROM customers\n",
    "GROUP BY gender, device\n",
    "\n",
    "'''\n",
    "run_query(query)"
   ]
  },
  {
   "cell_type": "code",
   "execution_count": 18,
   "id": "60521567",
   "metadata": {},
   "outputs": [
    {
     "data": {
      "text/plain": [
       "[('Female', 'South America', 'Crypto', 'Tablet', 0.6552380952380952),\n",
       " ('Female', 'Oceania', 'Gift Card', 'TV', 1.0478947368421052),\n",
       " ('Female', 'South America', 'Gift Card', 'Laptop', 1.0222222222222224),\n",
       " ('Female', 'South America', 'Credit Card', 'Laptop', 1.298125),\n",
       " ('Female', 'Asia', 'Crypto', 'TV', 1.2123529411764706),\n",
       " ('Female', 'Africa', 'Debit Card', 'Mobile', 0.6336111111111111),\n",
       " ('Female', 'Europe', 'Crypto', 'Tablet', 0.7097727272727273),\n",
       " ('Female', 'South America', 'Credit Card', 'Laptop', 0.5675),\n",
       " ('Female', 'Oceania', 'PayPal', 'Laptop', 0.49074074074074076),\n",
       " ('Female', 'Asia', 'Crypto', 'TV', 0.4916),\n",
       " ('Female', 'North America', 'Debit Card', 'Tablet', 0.744),\n",
       " ('Female', 'Asia', 'Credit Card', 'Tablet', 1.19625),\n",
       " ('Female', 'Oceania', 'Credit Card', 'Laptop', 0.5251612903225806),\n",
       " ('Female', 'North America', 'Debit Card', 'Mobile', 0.6192592592592592),\n",
       " ('Female', 'South America', 'Crypto', 'Desktop', 1.1575757575757577),\n",
       " ('Female', 'Europe', 'PayPal', 'TV', 1.2367647058823528),\n",
       " ('Female', 'South America', 'Gift Card', 'Desktop', 0.6849999999999999),\n",
       " ('Female', 'Oceania', 'Credit Card', 'Laptop', 1.1274358974358973),\n",
       " ('Female', 'Asia', 'Gift Card', 'Mobile', 1.7521621621621621),\n",
       " ('Female', 'Europe', 'Crypto', 'Desktop', 0.564),\n",
       " ('Female', 'Asia', 'PayPal', 'Laptop', 1.75125),\n",
       " ('Female', 'Oceania', 'PayPal', 'Mobile', 0.8255882352941176),\n",
       " ('Female', 'South America', 'Crypto', 'Desktop', 0.74),\n",
       " ('Female', 'Europe', 'Gift Card', 'TV', 0.911111111111111),\n",
       " ('Female', 'Europe', 'Credit Card', 'Mobile', 0.5117391304347826),\n",
       " ('Female', 'Europe', 'Credit Card', 'TV', 0.5056521739130435),\n",
       " ('Female', 'Oceania', 'Credit Card', 'TV', 1.1336666666666666),\n",
       " ('Female', 'Oceania', 'PayPal', 'TV', 0.7285714285714285),\n",
       " ('Female', 'Asia', 'Credit Card', 'Laptop', 0.4282142857142857),\n",
       " ('Female', 'Africa', 'PayPal', 'Desktop', 0.4374074074074074),\n",
       " ('Female', 'Africa', 'Crypto', 'Desktop', 0.6233333333333334),\n",
       " ('Female', 'South America', 'Crypto', 'Mobile', 1.0572972972972972),\n",
       " ('Female', 'Europe', 'Credit Card', 'Tablet', 0.8365),\n",
       " ('Female', 'South America', 'Credit Card', 'Mobile', 0.5944827586206896),\n",
       " ('Female', 'South America', 'Gift Card', 'Mobile', 0.4145454545454546),\n",
       " ('Female', 'South America', 'Gift Card', 'Mobile', 1.4085294117647058),\n",
       " ('Female', 'South America', 'Gift Card', 'Desktop', 1.1196296296296298),\n",
       " ('Female', 'Oceania', 'PayPal', 'TV', 0.8596551724137931),\n",
       " ('Female', 'South America', 'Debit Card', 'Tablet', 1.1173333333333335),\n",
       " ('Female', 'Europe', 'Crypto', 'Desktop', 1.59625),\n",
       " ('Female', 'Oceania', 'Debit Card', 'Mobile', 1.6688),\n",
       " ('Female', 'South America', 'PayPal', 'Desktop', 1.2733333333333334),\n",
       " ('Female', 'North America', 'Debit Card', 'Laptop', 0.8025925925925925),\n",
       " ('Female', 'Europe', 'Crypto', 'Tablet', 0.6738235294117647),\n",
       " ('Female', 'South America', 'Crypto', 'Mobile', 0.96775),\n",
       " ('Female', 'Asia', 'Credit Card', 'Laptop', 0.8284375),\n",
       " ('Female', 'Africa', 'PayPal', 'Mobile', 0.50225),\n",
       " ('Female', 'Asia', 'Gift Card', 'TV', 1.587142857142857),\n",
       " ('Female', 'South America', 'PayPal', 'Tablet', 1.1044444444444446),\n",
       " ('Female', 'Europe', 'PayPal', 'TV', 0.6002777777777778),\n",
       " ('Female', 'Oceania', 'PayPal', 'Tablet', 0.865),\n",
       " ('Female', 'Oceania', 'Gift Card', 'Laptop', 0.6241935483870968),\n",
       " ('Female', 'North America', 'Debit Card', 'Mobile', 0.7972727272727272),\n",
       " ('Male', 'Oceania', 'Debit Card', 'Tablet', 1.3927272727272728),\n",
       " ('Male', 'Asia', 'PayPal', 'Tablet', 1.183030303030303),\n",
       " ('Male', 'Africa', 'PayPal', 'Desktop', 0.41973684210526313),\n",
       " ('Male', 'Asia', 'Debit Card', 'Desktop', 0.7853333333333333),\n",
       " ('Male', 'Africa', 'Debit Card', 'Tablet', 0.9670588235294119),\n",
       " ('Male', 'Europe', 'Credit Card', 'TV', 0.8537499999999999),\n",
       " ('Male', 'Africa', 'Crypto', 'Desktop', 0.678125),\n",
       " ('Male', 'South America', 'Debit Card', 'Laptop', 0.5342857142857143),\n",
       " ('Male', 'Asia', 'Debit Card', 'Laptop', 0.6120512820512821),\n",
       " ('Male', 'South America', 'Gift Card', 'Laptop', 0.8443999999999999),\n",
       " ('Male', 'Africa', 'Crypto', 'Laptop', 0.6385714285714286),\n",
       " ('Male', 'South America', 'Debit Card', 'Mobile', 0.6944117647058823),\n",
       " ('Male', 'Europe', 'Crypto', 'Tablet', 0.667027027027027),\n",
       " ('Male', 'South America', 'PayPal', 'Desktop', 0.6),\n",
       " ('Male', 'North America', 'PayPal', 'Laptop', 0.49032258064516127),\n",
       " ('Male', 'Europe', 'Gift Card', 'Tablet', 1.1761290322580646),\n",
       " ('Male', 'North America', 'PayPal', 'Mobile', 0.6252631578947369),\n",
       " ('Male', 'Oceania', 'Crypto', 'TV', 0.8896428571428572),\n",
       " ('Male', 'North America', 'PayPal', 'TV', 1.1125),\n",
       " ('Male', 'Asia', 'Credit Card', 'Mobile', 0.9941025641025641),\n",
       " ('Male', 'South America', 'Credit Card', 'Desktop', 0.41909090909090907),\n",
       " ('Male', 'Asia', 'Gift Card', 'TV', 1.1272222222222221),\n",
       " ('Male', 'North America', 'Debit Card', 'Mobile', 0.6157142857142857),\n",
       " ('Male', 'South America', 'Debit Card', 'Desktop', 0.8239130434782609),\n",
       " ('Male', 'South America', 'Crypto', 'Laptop', 5.135454545454546),\n",
       " ('Male', 'Europe', 'PayPal', 'TV', 0.9241935483870969),\n",
       " ('Male', 'Oceania', 'Gift Card', 'TV', 1.4487179487179487),\n",
       " ('Male', 'Europe', 'Debit Card', 'Desktop', 0.8049999999999999),\n",
       " ('Male', 'Asia', 'Debit Card', 'Mobile', 1.2769444444444444),\n",
       " ('Male', 'Africa', 'PayPal', 'Tablet', 0.8053333333333333),\n",
       " ('Male', 'Oceania', 'Credit Card', 'Mobile', 0.5),\n",
       " ('Male', 'Oceania', 'Gift Card', 'Desktop', 0.6462068965517243),\n",
       " ('Male', 'Europe', 'Crypto', 'Tablet', 0.46481481481481485),\n",
       " ('Male', 'Europe', 'Gift Card', 'Mobile', 1.1464516129032258),\n",
       " ('Male', 'Asia', 'Crypto', 'TV', 1.3519999999999999),\n",
       " ('Male', 'Africa', 'PayPal', 'TV', 0.6107407407407407),\n",
       " ('Male', 'Oceania', 'Credit Card', 'TV', 0.4872972972972973),\n",
       " ('Male', 'Asia', 'PayPal', 'Mobile', 0.6044444444444445),\n",
       " ('Male', 'Asia', 'Debit Card', 'Laptop', 0.6596428571428571),\n",
       " ('Male', 'South America', 'Gift Card', 'Mobile', 0.46128205128205135),\n",
       " ('Male', 'North America', 'Debit Card', 'Mobile', 2.07),\n",
       " ('Male', 'Europe', 'PayPal', 'TV', 1.1619354838709677),\n",
       " ('Male', 'Oceania', 'Crypto', 'Tablet', 0.7617241379310344),\n",
       " ('Male', 'South America', 'PayPal', 'Mobile', 1.2153571428571428),\n",
       " ('Male', 'Europe', 'PayPal', 'Mobile', 0.8891428571428571),\n",
       " ('Male', 'Oceania', 'Credit Card', 'Mobile', 0.5736363636363636),\n",
       " ('Male', 'Africa', 'Credit Card', 'Laptop', 0.6276315789473683),\n",
       " ('Male', 'North America', 'Crypto', 'Mobile', 1.1007692307692307),\n",
       " ('Male', 'South America', 'PayPal', 'Tablet', 1.0502631578947368),\n",
       " ('Male', 'Oceania', 'PayPal', 'Tablet', 0.7286206896551723),\n",
       " ('Male', 'Europe', 'Crypto', 'Laptop', 0.9654545454545453),\n",
       " ('Male', 'Europe', 'Gift Card', 'TV', 0.7042424242424242),\n",
       " ('Male', 'Asia', 'Debit Card', 'Tablet', 0.8807407407407408),\n",
       " ('Other', 'Oceania', 'Credit Card', 'Tablet', 0.6206060606060606),\n",
       " ('Other', 'Asia', 'Crypto', 'Desktop', 0.5123809523809524),\n",
       " ('Other', 'Africa', 'Crypto', 'Tablet', 1.6063636363636362),\n",
       " ('Other', 'South America', 'Crypto', 'Laptop', 0.6726666666666666),\n",
       " ('Other', 'Asia', 'Gift Card', 'TV', 1.08875),\n",
       " ('Other', 'North America', 'PayPal', 'Mobile', 0.5084615384615384),\n",
       " ('Other', 'Asia', 'Gift Card', 'Tablet', 0.6914705882352941),\n",
       " ('Other', 'Africa', 'Credit Card', 'Tablet', 1.078695652173913),\n",
       " ('Other', 'Oceania', 'Debit Card', 'Mobile', 0.6384848484848485),\n",
       " ('Other', 'Oceania', 'Crypto', 'TV', 1.18625),\n",
       " ('Other', 'South America', 'Crypto', 'Mobile', 0.59),\n",
       " ('Other', 'Europe', 'PayPal', 'Desktop', 0.6703333333333333),\n",
       " ('Other', 'North America', 'Debit Card', 'Mobile', 0.4405),\n",
       " ('Other', 'Europe', 'Credit Card', 'Desktop', 0.6976315789473684),\n",
       " ('Other', 'Europe', 'Debit Card', 'TV', 0.9400000000000001),\n",
       " ('Other', 'South America', 'Crypto', 'Mobile', 0.6365625),\n",
       " ('Other', 'Asia', 'Debit Card', 'Tablet', 0.6823076923076923),\n",
       " ('Other', 'Europe', 'Credit Card', 'Tablet', 0.593103448275862),\n",
       " ('Other', 'Oceania', 'Crypto', 'Tablet', 1.18575),\n",
       " ('Other', 'Asia', 'Debit Card', 'Desktop', 0.7096875),\n",
       " ('Other', 'South America', 'Credit Card', 'Tablet', 0.8241935483870968),\n",
       " ('Other', 'Asia', 'Crypto', 'TV', 0.496),\n",
       " ('Other', 'Oceania', 'Gift Card', 'Tablet', 0.8124137931034482),\n",
       " ('Other', 'Asia', 'Credit Card', 'Mobile', 0.5548000000000001),\n",
       " ('Other', 'South America', 'Credit Card', 'Laptop', 0.4437037037037037),\n",
       " ('Other', 'Africa', 'Debit Card', 'TV', 1.171111111111111),\n",
       " ('Other', 'Europe', 'Debit Card', 'Desktop', 0.5325),\n",
       " ('Other', 'Asia', 'PayPal', 'Mobile', 0.6718181818181818),\n",
       " ('Other', 'Europe', 'Debit Card', 'Tablet', 0.5487804878048781),\n",
       " ('Other', 'Europe', 'Gift Card', 'Mobile', 0.7942105263157895),\n",
       " ('Other', 'Asia', 'Gift Card', 'TV', 0.916923076923077),\n",
       " ('Other', 'North America', 'Debit Card', 'Tablet', 0.6309677419354839),\n",
       " ('Other', 'South America', 'Gift Card', 'Tablet', 0.5465),\n",
       " ('Other', 'Africa', 'Gift Card', 'TV', 0.3447368421052632),\n",
       " ('Other', 'South America', 'Gift Card', 'Tablet', 0.5114285714285715),\n",
       " ('Other', 'Oceania', 'Crypto', 'TV', 1.7052173913043478),\n",
       " ('Other', 'Oceania', 'PayPal', 'TV', 0.4425),\n",
       " ('Other', 'Asia', 'Debit Card', 'Desktop', 0.6675757575757576),\n",
       " ('Other', 'Africa', 'Crypto', 'Mobile', 1.0894871794871794),\n",
       " ('Other', 'Europe', 'Debit Card', 'Mobile', 2.8425925925925926),\n",
       " ('Other', 'Asia', 'Credit Card', 'Mobile', 0.7244827586206896),\n",
       " ('Other', 'North America', 'Crypto', 'Desktop', 1.5842105263157895),\n",
       " ('Other', 'North America', 'Debit Card', 'TV', 0.43142857142857144),\n",
       " ('Other', 'North America', 'Gift Card', 'Tablet', 0.7395652173913044),\n",
       " ('Other', 'North America', 'Debit Card', 'Tablet', 0.488125),\n",
       " ('Other', 'Africa', 'PayPal', 'TV', 0.8177142857142857),\n",
       " ('Other', 'Africa', 'Crypto', 'Laptop', 0.42388888888888887),\n",
       " ('Other', 'North America', 'Credit Card', 'Desktop', 0.7975757575757576),\n",
       " ('Other', 'Europe', 'Gift Card', 'Laptop', 1.0158823529411765),\n",
       " ('Other', 'North America', 'Crypto', 'Tablet', 1.2279166666666665),\n",
       " ('Other', 'Europe', 'Credit Card', 'TV', 0.6107142857142858),\n",
       " ('Other', 'Europe', 'Debit Card', 'Tablet', 0.6745161290322581),\n",
       " ('Other', 'Europe', 'Gift Card', 'Laptop', 1.0311363636363635)]"
      ]
     },
     "execution_count": 18,
     "metadata": {},
     "output_type": "execute_result"
    }
   ],
   "source": [
    "query = '''\n",
    "SELECT gender, region, paymentMethod, device, AVG(avgWatchTimePerDay) AS avgWatchTimePerDay\n",
    "FROM customers\n",
    "GROUP BY gender, age\n",
    "\n",
    "'''\n",
    "run_query(query)"
   ]
  },
  {
   "cell_type": "markdown",
   "id": "3ee37b62",
   "metadata": {},
   "source": [
    "<h1>Churn Analysis</h1>"
   ]
  },
  {
   "cell_type": "code",
   "execution_count": 19,
   "id": "8a52fd7d",
   "metadata": {},
   "outputs": [
    {
     "data": {
      "text/plain": [
       "[(0.150625, 13.89625, 'Gift Card', 'Mobile', 'Europe', 32),\n",
       " (0.16612903225806452, 13.151290322580644, 'Crypto', 'Desktop', 'Asia', 31),\n",
       " (0.185, 13.356666666666666, 'Crypto', 'TV', 'South America', 30),\n",
       " (0.14500000000000002,\n",
       "  14.632857142857143,\n",
       "  'Crypto',\n",
       "  'Mobile',\n",
       "  'North America',\n",
       "  28),\n",
       " (0.16115384615384618,\n",
       "  13.682307692307692,\n",
       "  'Gift Card',\n",
       "  'Desktop',\n",
       "  'Europe',\n",
       "  26),\n",
       " (0.10423076923076922, 13.066923076923077, 'PayPal', 'Laptop', 'Europe', 26),\n",
       " (0.2036, 12.95, 'Crypto', 'TV', 'Asia', 25),\n",
       " (0.19875, 13.198333333333332, 'Crypto', 'Desktop', 'Africa', 24),\n",
       " (0.15291666666666667, 13.24, 'Gift Card', 'Mobile', 'South America', 24),\n",
       " (0.18956521739130436,\n",
       "  13.294347826086955,\n",
       "  'Crypto',\n",
       "  'Mobile',\n",
       "  'South America',\n",
       "  23),\n",
       " (0.13608695652173913,\n",
       "  13.42478260869565,\n",
       "  'Debit Card',\n",
       "  'Laptop',\n",
       "  'South America',\n",
       "  23),\n",
       " (0.14363636363636365,\n",
       "  13.944545454545453,\n",
       "  'Crypto',\n",
       "  'Laptop',\n",
       "  'South America',\n",
       "  22),\n",
       " (0.14136363636363636, 13.67181818181818, 'Crypto', 'Tablet', 'Europe', 22),\n",
       " (0.1290909090909091,\n",
       "  13.217272727272727,\n",
       "  'Crypto',\n",
       "  'Tablet',\n",
       "  'South America',\n",
       "  22),\n",
       " (0.1990909090909091,\n",
       "  13.489999999999998,\n",
       "  'Gift Card',\n",
       "  'Laptop',\n",
       "  'South America',\n",
       "  22),\n",
       " (0.135, 13.262727272727272, 'Gift Card', 'Tablet', 'Europe', 22),\n",
       " (0.12590909090909091,\n",
       "  14.899090909090908,\n",
       "  'Gift Card',\n",
       "  'Tablet',\n",
       "  'Oceania',\n",
       "  22),\n",
       " (0.1559090909090909, 13.262727272727272, 'PayPal', 'Tablet', 'Europe', 22),\n",
       " (0.1190909090909091, 13.853636363636362, 'PayPal', 'Tablet', 'Oceania', 22),\n",
       " (0.2828571428571428, 12.60904761904762, 'Credit Card', 'Laptop', 'Asia', 21),\n",
       " (0.11761904761904762, 12.942380952380951, 'Credit Card', 'TV', 'Europe', 21),\n",
       " (0.15333333333333335,\n",
       "  14.037619047619046,\n",
       "  'Crypto',\n",
       "  'Desktop',\n",
       "  'North America',\n",
       "  21),\n",
       " (0.20380952380952383, 13.418571428571427, 'Crypto', 'TV', 'Europe', 21),\n",
       " (0.11095238095238096,\n",
       "  13.22809523809524,\n",
       "  'Debit Card',\n",
       "  'Laptop',\n",
       "  'Africa',\n",
       "  21),\n",
       " (0.15761904761904763,\n",
       "  13.085238095238097,\n",
       "  'Debit Card',\n",
       "  'Mobile',\n",
       "  'South America',\n",
       "  21),\n",
       " (0.20904761904761904, 14.323333333333332, 'Gift Card', 'Desktop', 'Asia', 21),\n",
       " (0.21571428571428572,\n",
       "  13.22809523809524,\n",
       "  'Gift Card',\n",
       "  'Desktop',\n",
       "  'Oceania',\n",
       "  21),\n",
       " (0.16142857142857142, 13.847142857142856, 'Gift Card', 'Laptop', 'Asia', 21),\n",
       " (0.24047619047619045, 14.085238095238093, 'Gift Card', 'TV', 'Africa', 21),\n",
       " (0.131, 10.89, 'Credit Card', 'Tablet', 'South America', 20),\n",
       " (0.1965, 14.74, 'Crypto', 'TV', 'North America', 20),\n",
       " (0.177, 13.89, 'Crypto', 'Tablet', 'Asia', 20),\n",
       " (0.13999999999999999, 15.49, 'Crypto', 'Tablet', 'North America', 20),\n",
       " (0.136, 12.44, 'Debit Card', 'Mobile', 'North America', 20),\n",
       " (0.124, 12.84, 'Debit Card', 'TV', 'Asia', 20),\n",
       " (0.207, 13.39, 'Debit Card', 'Tablet', 'North America', 20),\n",
       " (0.1915, 13.690000000000001, 'Gift Card', 'Laptop', 'Europe', 20),\n",
       " (0.17850000000000002,\n",
       "  13.690000000000001,\n",
       "  'Gift Card',\n",
       "  'Laptop',\n",
       "  'Oceania',\n",
       "  20),\n",
       " (0.126, 12.09, 'PayPal', 'Mobile', 'Africa', 20),\n",
       " (0.18421052631578946, 13.147894736842105, 'Crypto', 'Laptop', 'Africa', 19),\n",
       " (0.11368421052631579,\n",
       "  14.147894736842105,\n",
       "  'Crypto',\n",
       "  'Laptop',\n",
       "  'North America',\n",
       "  19),\n",
       " (0.15578947368421053, 13.463684210526315, 'Crypto', 'Mobile', 'Asia', 19),\n",
       " (0.21947368421052632, 14.253157894736843, 'Crypto', 'Mobile', 'Oceania', 19),\n",
       " (0.14368421052631578, 13.411052631578947, 'Crypto', 'Tablet', 'Oceania', 19),\n",
       " (0.12210526315789473,\n",
       "  13.095263157894736,\n",
       "  'Debit Card',\n",
       "  'Tablet',\n",
       "  'South America',\n",
       "  19),\n",
       " (0.17157894736842105,\n",
       "  12.358421052631579,\n",
       "  'Gift Card',\n",
       "  'Desktop',\n",
       "  'South America',\n",
       "  19),\n",
       " (0.23526315789473684,\n",
       "  12.147894736842105,\n",
       "  'Gift Card',\n",
       "  'Laptop',\n",
       "  'North America',\n",
       "  19),\n",
       " (0.11368421052631579,\n",
       "  14.147894736842105,\n",
       "  'Gift Card',\n",
       "  'Mobile',\n",
       "  'Africa',\n",
       "  19),\n",
       " (0.1631578947368421, 13.621578947368421, 'Gift Card', 'TV', 'Asia', 19),\n",
       " (0.11947368421052632, 11.99, 'PayPal', 'TV', 'Asia', 19),\n",
       " (0.18421052631578946, 11.463684210526315, 'PayPal', 'TV', 'Europe', 19),\n",
       " (0.15263157894736842, 12.99, 'PayPal', 'Tablet', 'Asia', 19),\n",
       " (0.14055555555555557,\n",
       "  12.823333333333332,\n",
       "  'Credit Card',\n",
       "  'Laptop',\n",
       "  'Europe',\n",
       "  18),\n",
       " (0.195, 13.434444444444445, 'Crypto', 'Laptop', 'Asia', 18),\n",
       " (0.1461111111111111, 12.434444444444445, 'Gift Card', 'Laptop', 'Africa', 18),\n",
       " (0.19944444444444445,\n",
       "  13.156666666666666,\n",
       "  'Gift Card',\n",
       "  'Tablet',\n",
       "  'North America',\n",
       "  18),\n",
       " (0.18944444444444444,\n",
       "  12.434444444444445,\n",
       "  'Gift Card',\n",
       "  'Tablet',\n",
       "  'South America',\n",
       "  18),\n",
       " (0.1461111111111111,\n",
       "  11.101111111111111,\n",
       "  'PayPal',\n",
       "  'Laptop',\n",
       "  'North America',\n",
       "  18),\n",
       " (0.18333333333333332, 13.045555555555556, 'PayPal', 'Mobile', 'Asia', 18),\n",
       " (0.19166666666666668,\n",
       "  12.323333333333332,\n",
       "  'PayPal',\n",
       "  'Mobile',\n",
       "  'South America',\n",
       "  18),\n",
       " (0.1511111111111111, 12.878888888888888, 'PayPal', 'Tablet', 'Africa', 18),\n",
       " (0.195, 12.323333333333332, 'PayPal', 'Tablet', 'North America', 18),\n",
       " (0.17294117647058824,\n",
       "  12.813529411764705,\n",
       "  'Credit Card',\n",
       "  'Desktop',\n",
       "  'Europe',\n",
       "  17),\n",
       " (0.12411764705882353,\n",
       "  12.578235294117647,\n",
       "  'Credit Card',\n",
       "  'Laptop',\n",
       "  'South America',\n",
       "  17),\n",
       " (0.1635294117647059,\n",
       "  12.75470588235294,\n",
       "  'Credit Card',\n",
       "  'Tablet',\n",
       "  'North America',\n",
       "  17),\n",
       " (0.21176470588235294, 14.989999999999998, 'Crypto', 'Desktop', 'Oceania', 17),\n",
       " (0.17058823529411765,\n",
       "  14.75470588235294,\n",
       "  'Crypto',\n",
       "  'Desktop',\n",
       "  'South America',\n",
       "  17),\n",
       " (0.14941176470588236, 13.166470588235294, 'Crypto', 'Laptop', 'Europe', 17),\n",
       " (0.19058823529411764, 13.989999999999998, 'Crypto', 'Mobile', 'Africa', 17),\n",
       " (0.21235294117647058,\n",
       "  11.813529411764707,\n",
       "  'Debit Card',\n",
       "  'Laptop',\n",
       "  'North America',\n",
       "  17),\n",
       " (0.1823529411764706,\n",
       "  11.166470588235294,\n",
       "  'Debit Card',\n",
       "  'Mobile',\n",
       "  'Europe',\n",
       "  17),\n",
       " (0.26294117647058823, 14.401764705882352, 'Debit Card', 'TV', 'Oceania', 17),\n",
       " (0.13823529411764707,\n",
       "  12.401764705882353,\n",
       "  'Gift Card',\n",
       "  'Desktop',\n",
       "  'North America',\n",
       "  17),\n",
       " (0.18058823529411763,\n",
       "  12.284117647058823,\n",
       "  'Gift Card',\n",
       "  'Tablet',\n",
       "  'Africa',\n",
       "  17),\n",
       " (0.15705882352941175, 12.342941176470587, 'Gift Card', 'Tablet', 'Asia', 17),\n",
       " (0.13999999999999999, 12.107647058823531, 'PayPal', 'Desktop', 'Africa', 17),\n",
       " (0.123125, 13.365, 'Credit Card', 'Laptop', 'Africa', 16),\n",
       " (0.271875, 11.365, 'Credit Card', 'Mobile', 'Oceania', 16),\n",
       " (0.144375, 13.115, 'Credit Card', 'TV', 'South America', 16),\n",
       " (0.18375, 11.6775, 'Credit Card', 'Tablet', 'Oceania', 16),\n",
       " (0.146875, 15.739999999999998, 'Crypto', 'TV', 'Oceania', 16),\n",
       " (0.145, 13.615, 'Gift Card', 'Mobile', 'North America', 16),\n",
       " (0.13625, 13.3025, 'Gift Card', 'TV', 'South America', 16),\n",
       " (0.11, 12.24, 'PayPal', 'Laptop', 'Asia', 16),\n",
       " (0.17375, 11.365, 'PayPal', 'Laptop', 'South America', 16),\n",
       " (0.305, 13.865, 'PayPal', 'Mobile', 'North America', 16),\n",
       " (0.20933333333333334, 11.59, 'Credit Card', 'TV', 'Asia', 15),\n",
       " (0.084, 12.656666666666666, 'Credit Card', 'Tablet', 'Africa', 15),\n",
       " (0.16266666666666665, 12.99, 'Credit Card', 'Tablet', 'Europe', 15),\n",
       " (0.14066666666666666, 14.256666666666666, 'Crypto', 'TV', 'Africa', 15),\n",
       " (0.15666666666666668, 13.056666666666667, 'Crypto', 'Tablet', 'Africa', 15),\n",
       " (0.12266666666666667,\n",
       "  11.523333333333333,\n",
       "  'Debit Card',\n",
       "  'Desktop',\n",
       "  'Europe',\n",
       "  15),\n",
       " (0.15933333333333335, 14.79, 'Debit Card', 'Laptop', 'Europe', 15),\n",
       " (0.07066666666666667, 13.323333333333332, 'Debit Card', 'Mobile', 'Asia', 15),\n",
       " (0.132, 11.456666666666667, 'Debit Card', 'TV', 'North America', 15),\n",
       " (0.13799999999999998,\n",
       "  13.123333333333333,\n",
       "  'Debit Card',\n",
       "  'Tablet',\n",
       "  'Europe',\n",
       "  15),\n",
       " (0.162, 11.723333333333333, 'Debit Card', 'Tablet', 'Oceania', 15),\n",
       " (0.168, 13.323333333333332, 'Gift Card', 'TV', 'North America', 15),\n",
       " (0.13466666666666666, 11.456666666666667, 'PayPal', 'Laptop', 'Oceania', 15),\n",
       " (0.12142857142857143,\n",
       "  11.989999999999998,\n",
       "  'Credit Card',\n",
       "  'Mobile',\n",
       "  'North America',\n",
       "  14),\n",
       " (0.15214285714285714, 12.989999999999998, 'Credit Card', 'TV', 'Oceania', 14),\n",
       " (0.16714285714285712,\n",
       "  12.347142857142856,\n",
       "  'Debit Card',\n",
       "  'Mobile',\n",
       "  'Oceania',\n",
       "  14),\n",
       " (0.17214285714285715, 14.347142857142856, 'Debit Card', 'TV', 'Europe', 14),\n",
       " (0.12714285714285714, 13.989999999999998, 'Gift Card', 'Mobile', 'Asia', 14),\n",
       " (0.17285714285714285,\n",
       "  13.347142857142856,\n",
       "  'Gift Card',\n",
       "  'Mobile',\n",
       "  'Oceania',\n",
       "  14),\n",
       " (0.1285714285714286, 14.56142857142857, 'Gift Card', 'TV', 'Oceania', 14),\n",
       " (0.1285714285714286, 13.704285714285714, 'PayPal', 'Desktop', 'Asia', 14),\n",
       " (0.17642857142857143,\n",
       "  12.632857142857143,\n",
       "  'PayPal',\n",
       "  'TV',\n",
       "  'North America',\n",
       "  14),\n",
       " (0.20785714285714288, 13.275714285714285, 'PayPal', 'TV', 'Oceania', 14),\n",
       " (0.1842857142857143, 13.989999999999998, 'PayPal', 'TV', 'South America', 14),\n",
       " (0.4192857142857143,\n",
       "  12.918571428571427,\n",
       "  'PayPal',\n",
       "  'Tablet',\n",
       "  'South America',\n",
       "  14),\n",
       " (0.1846153846153846, 13.99, 'Credit Card', 'Desktop', 'Africa', 13),\n",
       " (0.09846153846153846,\n",
       "  13.297692307692309,\n",
       "  'Credit Card',\n",
       "  'Desktop',\n",
       "  'North America',\n",
       "  13),\n",
       " (0.1723076923076923,\n",
       "  13.297692307692309,\n",
       "  'Credit Card',\n",
       "  'Desktop',\n",
       "  'Oceania',\n",
       "  13),\n",
       " (0.1376923076923077, 14.99, 'Credit Card', 'Mobile', 'South America', 13),\n",
       " (0.16461538461538464, 13.374615384615385, 'Crypto', 'Desktop', 'Europe', 13),\n",
       " (0.19076923076923077, 13.297692307692309, 'Crypto', 'Mobile', 'Europe', 13),\n",
       " (0.1523076923076923, 11.528461538461539, 'Debit Card', 'Desktop', 'Asia', 13),\n",
       " (0.14307692307692307,\n",
       "  13.682307692307692,\n",
       "  'Debit Card',\n",
       "  'Desktop',\n",
       "  'North America',\n",
       "  13),\n",
       " (0.1992307692307692, 13.297692307692309, 'Debit Card', 'Laptop', 'Asia', 13),\n",
       " (0.1276923076923077, 13.220769230769232, 'Debit Card', 'TV', 'Africa', 13),\n",
       " (0.14307692307692307, 13.605384615384615, 'PayPal', 'Desktop', 'Europe', 13),\n",
       " (0.09692307692307692,\n",
       "  13.297692307692309,\n",
       "  'PayPal',\n",
       "  'Desktop',\n",
       "  'North America',\n",
       "  13),\n",
       " (0.22384615384615386,\n",
       "  13.836153846153847,\n",
       "  'PayPal',\n",
       "  'Desktop',\n",
       "  'South America',\n",
       "  13),\n",
       " (0.11461538461538462, 12.913076923076924, 'PayPal', 'Mobile', 'Europe', 13),\n",
       " (0.14923076923076922, 11.451538461538462, 'PayPal', 'TV', 'Africa', 13),\n",
       " (0.14916666666666667,\n",
       "  12.906666666666666,\n",
       "  'Credit Card',\n",
       "  'Laptop',\n",
       "  'Oceania',\n",
       "  12),\n",
       " (0.10333333333333333, 11.74, 'Credit Card', 'Mobile', 'Africa', 12),\n",
       " (0.11916666666666666,\n",
       "  12.906666666666666,\n",
       "  'Credit Card',\n",
       "  'Mobile',\n",
       "  'Asia',\n",
       "  12),\n",
       " (0.1325, 11.406666666666666, 'Credit Card', 'TV', 'North America', 12),\n",
       " (0.11166666666666668, 12.906666666666666, 'Crypto', 'Laptop', 'Oceania', 12),\n",
       " (0.22833333333333336, 12.49, 'Debit Card', 'Desktop', 'Oceania', 12),\n",
       " (0.15166666666666667,\n",
       "  10.573333333333332,\n",
       "  'Debit Card',\n",
       "  'TV',\n",
       "  'South America',\n",
       "  12),\n",
       " (0.18916666666666668, 11.49, 'PayPal', 'Laptop', 'Africa', 12),\n",
       " (0.18818181818181817,\n",
       "  11.171818181818182,\n",
       "  'Credit Card',\n",
       "  'Mobile',\n",
       "  'Europe',\n",
       "  11),\n",
       " (0.18818181818181817, 12.444545454545453, 'Credit Card', 'TV', 'Africa', 11),\n",
       " (0.10818181818181817,\n",
       "  13.717272727272727,\n",
       "  'Debit Card',\n",
       "  'Desktop',\n",
       "  'Africa',\n",
       "  11),\n",
       " (0.27909090909090906,\n",
       "  13.989999999999998,\n",
       "  'Gift Card',\n",
       "  'Desktop',\n",
       "  'Africa',\n",
       "  11),\n",
       " (0.10636363636363635, 13.808181818181817, 'Gift Card', 'TV', 'Europe', 11),\n",
       " (0.10900000000000001, 13.99, 'Credit Card', 'Desktop', 'South America', 10),\n",
       " (0.189, 13.690000000000001, 'Debit Card', 'Desktop', 'South America', 10),\n",
       " (0.13, 13.99, 'Debit Card', 'Laptop', 'Oceania', 10),\n",
       " (0.175, 13.690000000000001, 'Debit Card', 'Mobile', 'Africa', 10),\n",
       " (0.10200000000000001, 9.99, 'Debit Card', 'Tablet', 'Africa', 10),\n",
       " (0.192, 13.09, 'Debit Card', 'Tablet', 'Asia', 10),\n",
       " (0.124, 13.190000000000001, 'PayPal', 'Desktop', 'Oceania', 10),\n",
       " (0.1788888888888889, 12.545555555555556, 'Credit Card', 'Desktop', 'Asia', 9),\n",
       " (0.15888888888888889, 12.656666666666666, 'PayPal', 'Mobile', 'Oceania', 9),\n",
       " (0.29125, 11.865, 'Credit Card', 'Laptop', 'North America', 8),\n",
       " (0.1842857142857143, 12.989999999999998, 'Credit Card', 'Tablet', 'Asia', 7)]"
      ]
     },
     "execution_count": 19,
     "metadata": {},
     "output_type": "execute_result"
    }
   ],
   "source": [
    "query = '''\n",
    "\n",
    "SELECT AVG(avgWatchTimePerDay) AS avgWatchTimePerDay, AVG(MonthlyFee) AS avg_monthly_fee,  paymentMethod, device, region, COUNT(*) AS churn_count\n",
    "FROM customers\n",
    "WHERE Churn = 1\n",
    "GROUP BY paymentMethod, device, region\n",
    "ORDER BY churn_count DESC;\n",
    "'''\n",
    "run_query(query)"
   ]
  },
  {
   "cell_type": "markdown",
   "id": "2947aeca",
   "metadata": {},
   "source": [
    "<h3>More Detailed Analysis Using Python</h3>"
   ]
  },
  {
   "cell_type": "code",
   "execution_count": 20,
   "id": "333d2c2f",
   "metadata": {},
   "outputs": [
    {
     "data": {
      "text/plain": [
       "gender\n",
       "Female    0.1748\n",
       "Male      0.1654\n",
       "Other     0.1628\n",
       "Name: churned, dtype: float64"
      ]
     },
     "execution_count": 20,
     "metadata": {},
     "output_type": "execute_result"
    }
   ],
   "source": [
    "churn_by_gender = df.groupby('gender') ['churned'].sum()/df.shape[0]\n",
    "churn_by_gender"
   ]
  },
  {
   "cell_type": "code",
   "execution_count": 21,
   "id": "90398d1e",
   "metadata": {},
   "outputs": [
    {
     "data": {
      "text/plain": [
       "device\n",
       "Desktop    0.0934\n",
       "Laptop     0.1042\n",
       "Mobile     0.1014\n",
       "TV         0.0992\n",
       "Tablet     0.1048\n",
       "Name: churned, dtype: float64"
      ]
     },
     "execution_count": 21,
     "metadata": {},
     "output_type": "execute_result"
    }
   ],
   "source": [
    "churn_by_device = df.groupby('device') ['churned'].sum()/df.shape[0]\n",
    "churn_by_device"
   ]
  },
  {
   "cell_type": "code",
   "execution_count": 22,
   "id": "e6b16f5b",
   "metadata": {},
   "outputs": [
    {
     "data": {
      "text/plain": [
       "payment_method\n",
       "Credit Card    0.0848\n",
       "Crypto         0.1188\n",
       "Debit Card     0.0900\n",
       "Gift Card      0.1128\n",
       "PayPal         0.0966\n",
       "Name: churned, dtype: float64"
      ]
     },
     "execution_count": 22,
     "metadata": {},
     "output_type": "execute_result"
    }
   ],
   "source": [
    "churn_by_payment_method = df.groupby('payment_method')['churned'].sum() / df.shape[0]\n",
    "churn_by_payment_method"
   ]
  },
  {
   "cell_type": "markdown",
   "id": "1837a4d8",
   "metadata": {},
   "source": [
    "<h1>Data Visualization</h1>"
   ]
  },
  {
   "cell_type": "code",
   "execution_count": 23,
   "id": "c4fb69da",
   "metadata": {},
   "outputs": [
    {
     "data": {
      "image/png": "[encoded data removed]",
      "text/plain": [
       "<Figure size 640x480 with 1 Axes>"
      ]
     },
     "metadata": {},
     "output_type": "display_data"
    }
   ],
   "source": [
    "import matplotlib.pyplot as plt \n",
    "import seaborn as sns\n",
    "\n",
    "# Churn by Contract Type\n",
    "\n",
    "sns.countplot(data=df, x='device', hue='churned') \n",
    "plt.title('Churn Rate by Device Type')\n",
    "\n",
    "plt.show()"
   ]
  },
  {
   "cell_type": "code",
   "execution_count": 24,
   "id": "84feb230",
   "metadata": {},
   "outputs": [
    {
     "data": {
      "image/png": "[encoded data removed]",
      "text/plain": [
       "<Figure size 640x480 with 1 Axes>"
      ]
     },
     "metadata": {},
     "output_type": "display_data"
    }
   ],
   "source": [
    "sns.countplot(data=df, x='payment_method', hue='churned') \n",
    "plt.title('Churn Rate by Payment Method Type')\n",
    "\n",
    "plt.show()"
   ]
  },
  {
   "cell_type": "code",
   "execution_count": 25,
   "id": "c0425e39",
   "metadata": {},
   "outputs": [
    {
     "data": {
      "image/png": "[encoded data removed]",
      "text/plain": [
       "<Figure size 640x480 with 1 Axes>"
      ]
     },
     "metadata": {},
     "output_type": "display_data"
    }
   ],
   "source": [
    "sns.countplot(data=df, x='favorite_genre', hue='churned')\n",
    "plt.title('Churn Rate by Payment Method Type')\n",
    "\n",
    "plt.show()"
   ]
  },
  {
   "cell_type": "code",
   "execution_count": 26,
   "id": "a217a596",
   "metadata": {},
   "outputs": [
    {
     "data": {
      "image/png": "[encoded data removed]",
      "text/plain": [
       "<Figure size 1000x600 with 1 Axes>"
      ]
     },
     "metadata": {},
     "output_type": "display_data"
    }
   ],
   "source": [
    "# Group by subscription type\n",
    "plt.figure(figsize=(10, 6))\n",
    "\n",
    "for sub_type, group_data in df.groupby('subscription_type'):\n",
    "    sorted_avg = group_data['avg_watch_time_per_day'].sort_values().reset_index(drop=True)\n",
    "    sns.lineplot(data=sorted_avg, label=sub_type)\n",
    "\n",
    "plt.title(\"Average Watch Time per Day by Subscription Type\")\n",
    "plt.xlabel(\"Customer Index (Sorted Within Group)\")\n",
    "plt.ylabel(\"Avg Watch Time (hours)\")\n",
    "plt.legend(title=\"Subscription Type\")\n",
    "plt.grid(True)\n",
    "plt.tight_layout()\n",
    "plt.show()\n"
   ]
  },
  {
   "cell_type": "markdown",
   "id": "f4a2bfde",
   "metadata": {},
   "source": [
    "<h1>Machine Learning</h1>"
   ]
  },
  {
   "cell_type": "code",
   "execution_count": 27,
   "id": "9c7bfb27",
   "metadata": {},
   "outputs": [],
   "source": [
    "from sklearn.model_selection import train_test_split \n",
    "from sklearn.pipeline import Pipeline\n",
    "from sklearn.compose import ColumnTransformer\n",
    "from sklearn.preprocessing import OneHotEncoder, StandardScaler\n",
    "from sklearn.linear_model import LogisticRegression\n",
    "from sklearn.metrics import classification_report, accuracy_score\n",
    "from sklearn.impute import SimpleImputer\n",
    "from sklearn.ensemble import RandomForestClassifier\n",
    "from sklearn.tree import DecisionTreeClassifier\n"
   ]
  },
  {
   "cell_type": "markdown",
   "id": "a1ad87e8",
   "metadata": {},
   "source": [
    "<h3>Logic Regression</h3>"
   ]
  },
  {
   "cell_type": "code",
   "execution_count": 28,
   "id": "fa77cdaa",
   "metadata": {},
   "outputs": [
    {
     "name": "stdout",
     "output_type": "stream",
     "text": [
      "Accuracy: 0.896\n",
      "              precision    recall  f1-score   support\n",
      "\n",
      "           0       0.91      0.88      0.89       498\n",
      "           1       0.88      0.91      0.90       502\n",
      "\n",
      "    accuracy                           0.90      1000\n",
      "   macro avg       0.90      0.90      0.90      1000\n",
      "weighted avg       0.90      0.90      0.90      1000\n",
      "\n"
     ]
    }
   ],
   "source": [
    "# Example data preparation\n",
    "X = df.drop('churned', axis=1)\n",
    "y = df['churned']\n",
    "\n",
    "# Identify column types\n",
    "categorical_features = X.select_dtypes(include=['object']).columns.tolist()\n",
    "numerical_features = X.select_dtypes(include=['int64', 'float64']).columns.tolist()\n",
    "\n",
    "# Preprocessing pipelines\n",
    "numeric_pipeline = Pipeline([\n",
    "    ('imputer', SimpleImputer(strategy='mean')),\n",
    "    ('scaler', StandardScaler())\n",
    "])\n",
    "\n",
    "categorical_pipeline = Pipeline([\n",
    "    ('imputer', SimpleImputer(strategy='most_frequent')),\n",
    "    ('encoder', OneHotEncoder(handle_unknown='ignore'))\n",
    "])\n",
    "\n",
    "preprocessor = ColumnTransformer([\n",
    "    ('num', numeric_pipeline, numerical_features),\n",
    "    ('cat', categorical_pipeline, categorical_features)\n",
    "])\n",
    "\n",
    "# Final pipeline\n",
    "model_pipeline = Pipeline([\n",
    "    ('preprocess', preprocessor),\n",
    "    ('classifier', LogisticRegression(max_iter=1000))\n",
    "])\n",
    "\n",
    "# Train-test split\n",
    "X_train, X_test, y_train, y_test = train_test_split(X, y, test_size=0.2, random_state=42)\n",
    "\n",
    "# Fit and evaluate\n",
    "model_pipeline.fit(X_train, y_train)\n",
    "y_pred = model_pipeline.predict(X_test)\n",
    "\n",
    "print(\"Accuracy:\", accuracy_score(y_test, y_pred))\n",
    "print(classification_report(y_test, y_pred))\n"
   ]
  },
  {
   "cell_type": "markdown",
   "id": "2e4483ba",
   "metadata": {},
   "source": [
    "<h3>Random Forest Classifier</h3>"
   ]
  },
  {
   "cell_type": "code",
   "execution_count": 29,
   "id": "d8a87c03",
   "metadata": {},
   "outputs": [
    {
     "name": "stdout",
     "output_type": "stream",
     "text": [
      "Accuracy: 0.912\n",
      "              precision    recall  f1-score   support\n",
      "\n",
      "           0       0.96      0.86      0.91       498\n",
      "           1       0.87      0.96      0.92       502\n",
      "\n",
      "    accuracy                           0.91      1000\n",
      "   macro avg       0.92      0.91      0.91      1000\n",
      "weighted avg       0.92      0.91      0.91      1000\n",
      "\n"
     ]
    }
   ],
   "source": [
    "# Load and split your data\n",
    "X = df.drop('churned', axis=1)\n",
    "y = df['churned']\n",
    "\n",
    "# Identify categorical and numerical columns\n",
    "categorical_features = X.select_dtypes(include=['object']).columns.tolist()\n",
    "numerical_features = X.select_dtypes(include=['int64', 'float64']).columns.tolist()\n",
    "\n",
    "# Preprocessing for numeric features\n",
    "numeric_pipeline = Pipeline([\n",
    "    ('imputer', SimpleImputer(strategy='mean')),\n",
    "    ('scaler', StandardScaler())\n",
    "])\n",
    "\n",
    "# Preprocessing for categorical features\n",
    "categorical_pipeline = Pipeline([\n",
    "    ('imputer', SimpleImputer(strategy='most_frequent')),\n",
    "    ('encoder', OneHotEncoder(handle_unknown='ignore'))\n",
    "])\n",
    "\n",
    "# Combine preprocessor\n",
    "preprocessor = ColumnTransformer([\n",
    "    ('num', numeric_pipeline, numerical_features),\n",
    "    ('cat', categorical_pipeline, categorical_features)\n",
    "])\n",
    "\n",
    "# Full pipeline with Random Forest\n",
    "model_pipeline = Pipeline([\n",
    "    ('preprocess', preprocessor),\n",
    "    ('classifier', RandomForestClassifier(n_estimators=100, max_depth=8, random_state=42))\n",
    "])\n",
    "\n",
    "# Train-test split\n",
    "X_train, X_test, y_train, y_test = train_test_split(X, y, test_size=0.2, random_state=42)\n",
    "\n",
    "# Train model\n",
    "model_pipeline.fit(X_train, y_train)\n",
    "\n",
    "# Predict and evaluate\n",
    "y_pred = model_pipeline.predict(X_test)\n",
    "\n",
    "print(\"Accuracy:\", accuracy_score(y_test, y_pred))\n",
    "print(classification_report(y_test, y_pred))"
   ]
  },
  {
   "cell_type": "markdown",
   "id": "48429d85",
   "metadata": {},
   "source": [
    "<h3>Decision Trees</h3>"
   ]
  },
  {
   "cell_type": "code",
   "execution_count": 30,
   "id": "2b1e09b0",
   "metadata": {},
   "outputs": [
    {
     "name": "stdout",
     "output_type": "stream",
     "text": [
      "Accuracy: 0.912\n",
      "              precision    recall  f1-score   support\n",
      "\n",
      "           0       0.90      0.93      0.91       498\n",
      "           1       0.93      0.90      0.91       502\n",
      "\n",
      "    accuracy                           0.91      1000\n",
      "   macro avg       0.91      0.91      0.91      1000\n",
      "weighted avg       0.91      0.91      0.91      1000\n",
      "\n"
     ]
    }
   ],
   "source": [
    "X = df.drop('churned', axis=1)\n",
    "y = df['churned']\n",
    "\n",
    "# Identify column types\n",
    "categorical_features = X.select_dtypes(include=['object']).columns.tolist()\n",
    "numerical_features = X.select_dtypes(include=['int64', 'float64']).columns.tolist()\n",
    "\n",
    "# Numeric preprocessing\n",
    "numeric_pipeline = Pipeline([\n",
    "    ('imputer', SimpleImputer(strategy='mean')),\n",
    "    ('scaler', StandardScaler())\n",
    "])\n",
    "\n",
    "# Categorical preprocessing\n",
    "categorical_pipeline = Pipeline([\n",
    "    ('imputer', SimpleImputer(strategy='most_frequent')),\n",
    "    ('encoder', OneHotEncoder(handle_unknown='ignore'))\n",
    "])\n",
    "\n",
    "# Combine preprocessing\n",
    "preprocessor = ColumnTransformer([\n",
    "    ('num', numeric_pipeline, numerical_features),\n",
    "    ('cat', categorical_pipeline, categorical_features)\n",
    "])\n",
    "\n",
    "# Full pipeline with Decision Tree\n",
    "model_pipeline = Pipeline([\n",
    "    ('preprocess', preprocessor),\n",
    "    ('classifier', DecisionTreeClassifier(max_depth=5, random_state=42))  # you can tune max_depth\n",
    "])\n",
    "\n",
    "# Train-test split\n",
    "X_train, X_test, y_train, y_test = train_test_split(X, y, test_size=0.2, random_state=42)\n",
    "\n",
    "# Train the model\n",
    "model_pipeline.fit(X_train, y_train)\n",
    "\n",
    "# Predict and evaluate\n",
    "y_pred = model_pipeline.predict(X_test)\n",
    "\n",
    "print(\"Accuracy:\", accuracy_score(y_test, y_pred))\n",
    "print(classification_report(y_test, y_pred))"
   ]
  }
 ],
 "metadata": {
  "kernelspec": {
   "display_name": "Python 3",
   "language": "python",
   "name": "python3"
  },
  "language_info": {
   "codemirror_mode": {
    "name": "ipython",
    "version": 3
   },
   "file_extension": ".py",
   "mimetype": "text/x-python",
   "name": "python",
   "nbconvert_exporter": "python",
   "pygments_lexer": "ipython3",
   "version": "3.13.5"
  }
 },
 "nbformat": 4,
 "nbformat_minor": 5
}
